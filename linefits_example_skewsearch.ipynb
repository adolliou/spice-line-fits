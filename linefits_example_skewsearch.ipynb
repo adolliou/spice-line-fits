{
 "cells": [
  {
   "cell_type": "code",
   "execution_count": 1,
   "id": "b1607667-7db5-4c98-a4d0-9937a29e7747",
   "metadata": {},
   "outputs": [
    {
     "name": "stdout",
     "output_type": "stream",
     "text": [
      "This notebook is to test and demonstrate the spectral line fitting and file IO.\n",
      "This version started 120324, last automatic datestamp: 2024-12-20 14:38:14.428207\n"
     ]
    }
   ],
   "source": [
    "from datetime import datetime\n",
    "print(\"This notebook is to test and demonstrate the spectral line fitting and file IO.\\n\"\n",
    "\t  \"This version started 120324, last automatic datestamp:\",datetime.now())"
   ]
  },
  {
   "cell_type": "code",
   "execution_count": 2,
   "id": "8994c41c-6db0-4ee5-9dff-d3fd5a3977a3",
   "metadata": {},
   "outputs": [
    {
     "name": "stderr",
     "output_type": "stream",
     "text": [
      "/tmp/ipykernel_2091013/1527855273.py:1: DeprecationWarning: Importing display from IPython.core.display is deprecated since IPython 7.14, please import from IPython display\n",
      "  from IPython.core.display import display, HTML\n"
     ]
    },
    {
     "data": {
      "text/html": [
       "<style>.container { width:95% !important; }</style>"
      ],
      "text/plain": [
       "<IPython.core.display.HTML object>"
      ]
     },
     "metadata": {},
     "output_type": "display_data"
    }
   ],
   "source": [
    "from IPython.core.display import display, HTML\n",
    "display(HTML(\"<style>.container { width:95% !important; }</style>\"))\n",
    "\n",
    "import importlib, time, copy, os, sys, numpy as np, astropy.units as u\n",
    "np.set_printoptions(linewidth=160)\n",
    "\n",
    "from astropy.io import fits; import matplotlib.pyplot as plt; from matplotlib.gridspec import GridSpec\n",
    "plt.rcParams.update({'font.size': 18,'figure.figsize':[15,12],'image.origin':'lower'}) # Make the fonts big enough for papers\n",
    "\n",
    "base_path = '../'\n",
    "sys.path.append(base_path+'linefit_modules/')\n",
    "from util import get_mask_errs, get_spice_err\n",
    "from skew_correction import skew_correct, deskew_linefit_window\n",
    "from skew_parameter_search import search_shifts_mp, shift_holder, refine_points\n",
    "from linefit_leastsquares import lsq_fitter\n",
    "from linefit_storage import linefits\n",
    "\n",
    "fitter = lsq_fitter"
   ]
  },
  {
   "cell_type": "code",
   "execution_count": 3,
   "id": "20e54fec-bb7d-49ab-b733-d6a6c0c9b5f2",
   "metadata": {},
   "outputs": [],
   "source": [
    "linelist = {'Ar VIII+S III 700':700.3, 'O III 703':702.9, 'O III 704':703.9, 'Mg IX 706':706.0,\n",
    "\t\t\t'O II 718':718.5, 'S IV 745':744.9, 'S IV 748':748.4, 'S IV 750':750.2,\n",
    "\t\t\t'O V 759':758.7, 'S IV+O V 759':759.4, 'O V 760':760.3, 'O V 762':762.0,\n",
    "\t\t\t'N IV 765':765.1, 'Ne VIII 770':770.4, 'Mg VIII 772':772.3, 'Ne VIII 780':780.3,\n",
    "\t\t\t'S V 786':786.5, 'O IV 787':787.7, 'O IV 790':790.1, 'Ly Gamma 972':972.5,\n",
    "\t\t\t'C III 977':977.0, 'O I +- Na VI 989':988.7, 'N III 990':989.8, 'N III 992':991.6,\n",
    "\t\t\t'H I (+ O I) 1025':1025.7, 'O I 1027':1027.4, 'O VI 1032':1031.9, 'C II 1036':1036.5,\n",
    "\t\t\t'O VI 1037':1037.6}\n",
    "\n",
    "line_names = list(linelist.keys())\n",
    "line_waves = [linelist[name] for name in line_names]"
   ]
  },
  {
   "cell_type": "code",
   "execution_count": 4,
   "id": "a3051bac-ece4-4878-81e5-d766c32ade6c",
   "metadata": {},
   "outputs": [
    {
     "name": "stdout",
     "output_type": "stream",
     "text": [
      "Filename: /home/jplowman/research/solar-physics/data/spice/20220307/solo_L2_spice-n-ras_20220307T030536_V22_100663723-000.fits\n",
      "No.    Name      Ver    Type      Cards   Dimensions   Format\n",
      "  0  Mg IX 706 - Peak    1 PrimaryHDU     418   (128, 834, 50, 1)   float32   \n",
      "  1  O II 718 - Peak    1 ImageHDU       417   (128, 834, 50, 1)   float32   \n",
      "  2  Ne VIII 770 / Mg VIII 772 (Merged)    1 ImageHDU       424   (128, 834, 66, 1)   float32   \n",
      "  3  S V 786 / O IV 787 - Extend    1 ImageHDU       426   (128, 834, 58, 1)   float32   \n",
      "  4  Ly Gamma 972 - Peak    1 ImageHDU       417   (128, 834, 36, 1)   float32   \n",
      "  5  C III 977 (Merged)    1 ImageHDU       426   (128, 834, 42, 1)   float32   \n",
      "  6  O VI 1032 - Peak    1 ImageHDU       417   (128, 834, 34, 1)   float32   \n",
      "  7  VARIABLE_KEYWORDS    1 BinTableHDU    398   1R x 28C   [128D, 128I, 128I, 128I, 128I, 128I, 128E, 128E, 128E, 128E, 4I, 4I, 4I, 4I, 4J, 4J, 4J, 4J, 2944A, 128D, 128D, 50D, 50D, 66D, 58D, 36D, 42D, 34D]   \n",
      "  8  WCSDVARR      1 ImageHDU        28   (128,)   float64   \n",
      "  9  WCSDVARR      2 ImageHDU        28   (128,)   float64   \n",
      " 10  SATPIXLIST[Mg IX 706 - Peak]    1 BinTableHDU     98   4R x 6C   [1E, 1E, 1E, 1E, 1E, 1E]   \n",
      " 11  SATPIXLIST[S V 786 / O IV 787 - Extend]    1 BinTableHDU     98   236R x 6C   [1E, 1E, 1E, 1E, 1E, 1E]   \n",
      " 12  SATPIXLIST[C III 977 - Peak]    1 BinTableHDU     98   11R x 6C   [1E, 1E, 1E, 1E, 1E, 1E]   \n"
     ]
    }
   ],
   "source": [
    "spice_data_dir = '/home/jplowman/research/solar-physics/data/spice/20220307/' # Will need to update this to location of data file\n",
    "spice_L2_filename = 'solo_L2_spice-n-ras_20220307T030536_V22_100663723-000.fits'\n",
    "spice_L2_fullname = os.path.join(spice_data_dir, spice_L2_filename)\n",
    "win_name = 'O II 718 - Peak'\n",
    "\n",
    "hdul = fits.open(spice_L2_fullname)\n",
    "hdul.info()\n",
    "spice_dat, spice_hdr = hdul[win_name].data[0], hdul[win_name].header\n",
    "spice_dat = spice_dat.transpose([2,1,0]).astype(np.float32)\n",
    "hdul.close()\n",
    "\n",
    "# Manually estimated parameters of skew correction:\n",
    "xlshift, ylshift = 1.6626831549412866, -1.7115244726176873\n",
    "\n",
    "# Initial search pattern. Avoid checking 0 shift in either direction because that results in a\n",
    "# sharper image and therefore more variance:\n",
    "xs_quad1, ys_quad1 = np.array(np.meshgrid([-5.0,-3.0,-1.0],[-5.0,-3.0,-1.0])).transpose([0,2,1])\n",
    "xs_quad2, ys_quad2 = np.array(np.meshgrid([ 1.0, 3.0, 5.0],[-5.0,-3.0,-1.0])).transpose([0,2,1])\n",
    "xs_quad3, ys_quad3 = np.array(np.meshgrid([ 1.0, 3.0, 5.0],[ 1.0, 3.0, 5.0])).transpose([0,2,1])\n",
    "xs_quad4, ys_quad4 = np.array(np.meshgrid([-5.0,-3.0,-1.0],[ 1.0, 3.0, 5.0])).transpose([0,2,1])\n",
    "xl, xh, yl, yh = [-5,5,-5,5]"
   ]
  },
  {
   "cell_type": "code",
   "execution_count": 5,
   "id": "4b2a6443-3e7e-4ba3-aa80-f61c15668c99",
   "metadata": {},
   "outputs": [],
   "source": [
    "shift_vars = shift_holder(spice_dat, spice_hdr, line_waves, line_names, fitter.__name__)"
   ]
  },
  {
   "cell_type": "code",
   "execution_count": 6,
   "id": "29c5c047-5dd5-4d28-bf46-f747716ac696",
   "metadata": {},
   "outputs": [
    {
     "name": "stdout",
     "output_type": "stream",
     "text": [
      "-5.0 -3.0 0.8606972243584914\n",
      "-1.0 -1.0 0.8357062491276005\n",
      "-3.0 -3.0 0.8418580376401629\n",
      "-5.0 -1.0 0.8586458512075458\n",
      "-3.0 -1.0 0.8409201275539082\n",
      "-3.0 -5.0 0.8482685195455772\n",
      "-1.0 -3.0 0.8211218362366302\n",
      "-1.0 -5.0 0.8250168741327454\n",
      "-5.0 -5.0 0.8631941169894991\n"
     ]
    }
   ],
   "source": [
    "shift_vars = search_shifts_mp(spice_dat, spice_hdr, xs_quad1, ys_quad1, line_waves, line_names, fitter, shift_vars=shift_vars)"
   ]
  },
  {
   "cell_type": "code",
   "execution_count": 7,
   "id": "4c59400b-de44-4683-a5a5-aca77489be0d",
   "metadata": {},
   "outputs": [
    {
     "name": "stdout",
     "output_type": "stream",
     "text": [
      "1.0 -3.0 0.8201737915892591\n",
      "5.0 -5.0 0.8636212990700285\n",
      "5.0 -1.0 0.8542334202344652\n",
      "3.0 -3.0 0.8391850840318014\n",
      "3.0 -5.0 0.8479118496780782\n",
      "3.0 -1.0 0.8361074340601237\n",
      "1.0 -5.0 0.8235405477948441\n",
      "1.0 -1.0 0.8342263692793533\n",
      "5.0 -3.0 0.8583798814407347\n"
     ]
    }
   ],
   "source": [
    "shift_vars = search_shifts_mp(spice_dat, spice_hdr, xs_quad2, ys_quad2, line_waves, line_names, fitter, shift_vars=shift_vars)"
   ]
  },
  {
   "cell_type": "code",
   "execution_count": 8,
   "id": "73b6513e-f4d4-4273-baf2-4a5c13a12e0e",
   "metadata": {},
   "outputs": [
    {
     "name": "stdout",
     "output_type": "stream",
     "text": [
      "3.0 5.0 0.8538282327436579\n",
      "5.0 1.0 0.8553043403733718\n",
      "5.0 3.0 0.8604000088602474\n",
      "1.0 3.0 0.8290219298693499\n",
      "5.0 5.0 0.8688236428815441\n",
      "3.0 3.0 0.8450698323757658\n",
      "1.0 1.0 0.8383894081745283\n",
      "1.0 5.0 0.8329229015367956\n",
      "3.0 1.0 0.8407148771631086\n"
     ]
    }
   ],
   "source": [
    "shift_vars = search_shifts_mp(spice_dat, spice_hdr, xs_quad3, ys_quad3, line_waves, line_names, fitter, shift_vars=shift_vars)"
   ]
  },
  {
   "cell_type": "code",
   "execution_count": 9,
   "id": "db6a28af-8016-4b0f-b7f7-3cf3eb7ba622",
   "metadata": {},
   "outputs": [
    {
     "name": "stdout",
     "output_type": "stream",
     "text": [
      "-5.0 1.0 0.8593736674093987\n",
      "-5.0 3.0 0.8623029457490041\n",
      "-5.0 5.0 0.8675858033932056\n",
      "-1.0 3.0 0.8280222689772524\n",
      "-3.0 5.0 0.8530760680134222\n",
      "-3.0 3.0 0.8469068355212058\n",
      "-1.0 5.0 0.8325455473294622\n",
      "-1.0 1.0 0.8400130528151253\n",
      "-3.0 1.0 0.8425012512665426\n"
     ]
    }
   ],
   "source": [
    "shift_vars = search_shifts_mp(spice_dat, spice_hdr, xs_quad4, ys_quad4, line_waves, line_names, fitter, shift_vars=shift_vars)"
   ]
  },
  {
   "cell_type": "code",
   "execution_count": null,
   "id": "687b005d-7d25-4c51-9764-42db8cf3e850",
   "metadata": {},
   "outputs": [],
   "source": [
    "x_refine, y_refine = refine_points(shift_vars,[-5,5],[-5,5], 11, 11, 20)\n",
    "shift_vars = search_shifts_mp(spice_dat, spice_hdr, x_refine, y_refine, line_waves, line_names, fitter, shift_vars=shift_vars)\n",
    "shift_vars.save()"
   ]
  },
  {
   "cell_type": "code",
   "execution_count": null,
   "id": "ef534718-2531-4fd6-a324-25e905878d2e",
   "metadata": {},
   "outputs": [],
   "source": [
    "x_refine, y_refine = refine_points(shift_vars,[-5,5],[-5,5], 81, 81, 20)\n",
    "shift_vars = search_shifts_mp(spice_dat, spice_hdr, x_refine, y_refine, line_waves, line_names, fitter, shift_vars=shift_vars)\n",
    "shift_vars.save()"
   ]
  },
  {
   "cell_type": "code",
   "execution_count": null,
   "id": "1b2fbcf1-352f-4355-8d4b-dd1c825a7728",
   "metadata": {},
   "outputs": [],
   "source": [
    "shift_vars2 = shift_holder(spice_dat, spice_hdr, line_waves, line_names, fitter.__name__)\n",
    "shift_vars2.load() # Just to check the save/load functionality"
   ]
  },
  {
   "cell_type": "code",
   "execution_count": null,
   "id": "1ca83fea-d1d8-45cc-b1b5-004f0d64dd54",
   "metadata": {},
   "outputs": [],
   "source": [
    "(np.array(list(shift_vars2.valdict.values()))-np.array(list(shift_vars.valdict.values()))).T"
   ]
  },
  {
   "cell_type": "code",
   "execution_count": null,
   "id": "b83a7fa4-ecfd-46e2-80d3-7aa6e54a1ad2",
   "metadata": {},
   "outputs": [],
   "source": [
    "# Reinterpolate the search results to a finer linear grid for ease of plotting:\n",
    "from scipy.interpolate import RegularGridInterpolator, LinearNDInterpolator as lndi\n",
    "\n",
    "xa = np.array(list(shift_vars.valdict.values()))[:,0]\n",
    "ya = np.array(list(shift_vars.valdict.values()))[:,1]\n",
    "dat = np.array(list(shift_vars.valdict.values()))[:,2]\n",
    "\n",
    "include = (np.abs(xa) > 1.0e-5)*(np.abs(ya) > 1.0e-5)\n",
    "\n",
    "nx_plot, ny_plot = 41, 41\n",
    "xya = np.vstack([xa[include],ya[include]]).T\n",
    "xa0,ya0 = np.array(np.meshgrid(np.linspace(xl,xh,nx_plot),np.linspace(yl,yh,ny_plot))).transpose([0,2,1])\n",
    "dat_interp = lndi(xya, dat[include])(xa0,ya0)\n",
    "\n",
    "dat_interp = lndi(xya, dat[include])(xa0,ya0)"
   ]
  },
  {
   "cell_type": "code",
   "execution_count": null,
   "id": "f346791c-ed59-4451-a6a7-34f35ef76724",
   "metadata": {},
   "outputs": [],
   "source": [
    "sort_interp = np.argsort(dat_interp.flatten())\n",
    "xsort_interp = xa0.flatten()[sort_interp]\n",
    "ysort_interp = ya0.flatten()[sort_interp]\n",
    "\n",
    "xl2, xh2 = xl-0.5*(xh-xl)/(nx_plot-1), xh+0.5*(xh-xl)/(nx_plot-1)\n",
    "yl2, yh2 = yl-0.5*(yh-yl)/(ny_plot-1), yh+0.5*(yh-yl)/(ny_plot-1)\n",
    "\n",
    "labelstr = spice_hdr['DATE']+' '+spice_hdr['EXTNAME']\n",
    "labelstr = labelstr.replace('-','').replace(':','').replace('  ','_').replace(' ','_')\n",
    "print(labelstr)\n",
    "\n",
    "plt.imshow(dat_interp.T, extent=[xl2, xh2, yl2, yh2],cmap=plt.get_cmap('gray'))\n",
    "plt.plot(xa,ya,'P',markersize=10,linewidth=5)\n",
    "plt.title(spice_hdr['DATE']+' '+spice_hdr['EXTNAME']+': xyshift='+str([xa[np.argmin(dat)], ya[np.argmin(dat)]]))\n",
    "plt.xlabel('x shift (arcsecond/angstrom)')\n",
    "plt.ylabel('y shift (arcsecond/angstrom)')\n",
    "plt.legend(['Sampled points'])\n",
    "plt.colorbar()\n",
    "plt.savefig(os.path.join(shift_vars.save_dir,'varplot_'+labelstr+'.png'))"
   ]
  }
 ],
 "metadata": {
  "kernelspec": {
   "display_name": "Python 3 (ipykernel)",
   "language": "python",
   "name": "python3"
  },
  "language_info": {
   "codemirror_mode": {
    "name": "ipython",
    "version": 3
   },
   "file_extension": ".py",
   "mimetype": "text/x-python",
   "name": "python",
   "nbconvert_exporter": "python",
   "pygments_lexer": "ipython3",
   "version": "3.11.6"
  }
 },
 "nbformat": 4,
 "nbformat_minor": 5
}
