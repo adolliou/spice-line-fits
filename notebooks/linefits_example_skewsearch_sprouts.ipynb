{
 "cells": [
  {
   "cell_type": "code",
   "execution_count": 2,
   "id": "b1607667-7db5-4c98-a4d0-9937a29e7747",
   "metadata": {},
   "outputs": [
    {
     "name": "stdout",
     "output_type": "stream",
     "text": [
      "This notebook is to test and demonstrate the spectral line fitting and file IO.\n",
      "This version started 120324, last automatic datestamp: 2025-09-19 14:06:49.235980\n"
     ]
    }
   ],
   "source": [
    "from datetime import datetime\n",
    "print(\"This notebook is to test and demonstrate the spectral line fitting and file IO.\\n\"\n",
    "\t  \"This version started 120324, last automatic datestamp:\",datetime.now())"
   ]
  },
  {
   "cell_type": "code",
   "execution_count": 3,
   "id": "8994c41c-6db0-4ee5-9dff-d3fd5a3977a3",
   "metadata": {},
   "outputs": [],
   "source": [
    "\n",
    "import importlib, time, copy, os, sys, numpy as np, astropy.units as u\n",
    "np.set_printoptions(linewidth=160)\n",
    "\n",
    "from astropy.io import fits; import matplotlib.pyplot as plt; from matplotlib.gridspec import GridSpec\n",
    "plt.rcParams.update({'font.size': 18,'figure.figsize':[15,12],'image.origin':'lower'}) # Make the fonts big enough for papers\n",
    "\n",
    "base_path = '../'\n",
    "sys.path.append(base_path+'linefit_modules/')\n",
    "from util import get_mask_errs, get_spice_err\n",
    "from skew_correction import skew_correct, deskew_linefit_window\n",
    "from skew_parameter_search import search_shifts, shift_holder, refine_points\n",
    "from linefit_leastsquares import lsq_fitter, lsq_fitter\n",
    "from linefit_storage import linefits\n",
    "\n",
    "fitter = lsq_fitter # lsq_fitter\n",
    "from linefit_leastsquares import check_for_waves\n"
   ]
  },
  {
   "cell_type": "code",
   "execution_count": 4,
   "id": "20e54fec-bb7d-49ab-b733-d6a6c0c9b5f2",
   "metadata": {},
   "outputs": [],
   "source": [
    "linelist = {'Ar VIII+S III 700':700.3, 'O III 703':702.9, 'O III 704':703.9, 'Mg IX 706':706.0,\n",
    "\t\t\t'O II 718':718.5, 'S IV 745':744.9, 'S IV 748':748.4, 'S IV 750':750.2,\n",
    "\t\t\t'O V 759':758.7, 'S IV+O V 759':759.4, 'O V 760':760.3, 'O V 762':762.0,\n",
    "\t\t\t'N IV 765':765.1, 'Ne VIII 770':770.4, 'Mg VIII 772':772.3, 'Ne VIII 780':780.3,\n",
    "\t\t\t'S V 786':786.5, 'O IV 787':787.7, 'O IV 790':790.1, 'Ly Gamma 972':972.5,\n",
    "\t\t\t'C III 977':977.0, 'O I +- Na VI 989':988.7, 'N III 990':989.8, 'N III 992':991.6,\n",
    "\t\t\t'H I (+ O I) 1025':1025.7, 'O I 1027':1027.4, 'O VI 1032':1031.9, 'C II 1036':1036.5,\n",
    "\t\t\t'O VI 1037':1037.6}\n",
    "\n",
    "line_names = list(linelist.keys())\n",
    "line_waves = [linelist[name] for name in line_names]"
   ]
  },
  {
   "cell_type": "code",
   "execution_count": 10,
   "id": "a3051bac-ece4-4878-81e5-d766c32ade6c",
   "metadata": {},
   "outputs": [
    {
     "name": "stdout",
     "output_type": "stream",
     "text": [
      "[[-5.  -5.  -5.  -5.  -5. ]\n",
      " [-2.5 -2.5 -2.5 -2.5 -2.5]\n",
      " [ 0.   0.   0.   0.   0. ]\n",
      " [ 2.5  2.5  2.5  2.5  2.5]\n",
      " [ 5.   5.   5.   5.   5. ]] [[-5.  -2.5  0.   2.5  5. ]\n",
      " [-5.  -2.5  0.   2.5  5. ]\n",
      " [-5.  -2.5  0.   2.5  5. ]\n",
      " [-5.  -2.5  0.   2.5  5. ]\n",
      " [-5.  -2.5  0.   2.5  5. ]]\n"
     ]
    }
   ],
   "source": [
    "#base_dir = '/sol/d1/jplowman/solar-physics/'\n",
    "#sprouts_dir = os.path.join(base_dir,'data','spice','sprouts')\n",
    "files = np.array(os.listdir('../data'))\n",
    "fitsfiles = files[[name.endswith('.fits') for name in files]]\n",
    "\n",
    "win_name = 'O II 718 - Peak (spectral bin 2)' # 'Ly-gamma-CIII group (Merged)' #'O III 703 / Mg IX 706 (Merged)'\n",
    "\n",
    "\n",
    "## Initial search pattern. Avoid checking 0 shift in either direction because that results in a\n",
    "## sharper image and therefore more variance:\n",
    "xl, xh, yl, yh = [-5,5,-5,5]\n",
    "\n",
    "xs_initial, ys_initial = np.array(np.meshgrid([-5,-2.5,0,2.5,5],[-5,-2.5,0,2.5,5])).transpose([0,2,1])\n",
    "print(xs_initial, ys_initial)"
   ]
  },
  {
   "cell_type": "code",
   "execution_count": 6,
   "id": "14ff4a93-5935-485d-86b5-c716f94bbc23",
   "metadata": {},
   "outputs": [
    {
     "data": {
      "text/plain": [
       "array([-5. , -2.5,  0. ,  2.5,  5. ])"
      ]
     },
     "execution_count": 6,
     "metadata": {},
     "output_type": "execute_result"
    }
   ],
   "source": [
    "np.linspace(xl,xh,5)"
   ]
  },
  {
   "cell_type": "code",
   "execution_count": 7,
   "id": "f9e40171-568c-4320-890c-f208cb0e74b3",
   "metadata": {},
   "outputs": [
    {
     "name": "stdout",
     "output_type": "stream",
     "text": [
      "[[-5.  -5.  -5.  -5.  -5. ]\n",
      " [-2.5 -2.5 -2.5 -2.5 -2.5]\n",
      " [ 0.   0.   0.   0.   0. ]\n",
      " [ 2.5  2.5  2.5  2.5  2.5]\n",
      " [ 5.   5.   5.   5.   5. ]] [[-5.  -2.5  0.   2.5  5. ]\n",
      " [-5.  -2.5  0.   2.5  5. ]\n",
      " [-5.  -2.5  0.   2.5  5. ]\n",
      " [-5.  -2.5  0.   2.5  5. ]\n",
      " [-5.  -2.5  0.   2.5  5. ]]\n"
     ]
    }
   ],
   "source": [
    "xs_initial, ys_initial = np.array(np.meshgrid(np.linspace(xl,xh,5),np.linspace(yl,yh,5))).transpose([0,2,1])\n",
    "print(xs_initial, ys_initial)"
   ]
  },
  {
   "cell_type": "code",
   "execution_count": 8,
   "id": "aea1ec21-b790-4fea-8eaf-bf0419514c3f",
   "metadata": {},
   "outputs": [],
   "source": [
    "file_offsets=[0]"
   ]
  },
  {
   "cell_type": "code",
   "execution_count": 11,
   "id": "111d3f5b-0a0d-447c-9012-5a654411091f",
   "metadata": {},
   "outputs": [
    {
     "name": "stdout",
     "output_type": "stream",
     "text": [
      "Filename: ../data\\solo_L2_spice-n-ras_20220307T030536_V22_100663723-000.fits\n",
      "No.    Name      Ver    Type      Cards   Dimensions   Format\n",
      "  0  Mg IX 706 - Peak    1 PrimaryHDU     418   (128, 834, 50, 1)   float32   \n",
      "  1  O II 718 - Peak    1 ImageHDU       417   (128, 834, 50, 1)   float32   \n",
      "  2  Ne VIII 770 / Mg VIII 772 (Merged)    1 ImageHDU       424   (128, 834, 66, 1)   float32   \n",
      "  3  S V 786 / O IV 787 - Extend    1 ImageHDU       426   (128, 834, 58, 1)   float32   \n",
      "  4  Ly Gamma 972 - Peak    1 ImageHDU       417   (128, 834, 36, 1)   float32   \n",
      "  5  C III 977 (Merged)    1 ImageHDU       426   (128, 834, 42, 1)   float32   \n",
      "  6  O VI 1032 - Peak    1 ImageHDU       417   (128, 834, 34, 1)   float32   \n",
      "  7  VARIABLE_KEYWORDS    1 BinTableHDU    398   1R x 28C   [128D, 128I, 128I, 128I, 128I, 128I, 128E, 128E, 128E, 128E, 4I, 4I, 4I, 4I, 4J, 4J, 4J, 4J, 2944A, 128D, 128D, 50D, 50D, 66D, 58D, 36D, 42D, 34D]   \n",
      "  8  WCSDVARR      1 ImageHDU        28   (128,)   float64   \n",
      "  9  WCSDVARR      2 ImageHDU        28   (128,)   float64   \n",
      " 10  SATPIXLIST[Mg IX 706 - Peak]    1 BinTableHDU     98   4R x 6C   [1E, 1E, 1E, 1E, 1E, 1E]   \n",
      " 11  SATPIXLIST[S V 786 / O IV 787 - Extend]    1 BinTableHDU     98   236R x 6C   [1E, 1E, 1E, 1E, 1E, 1E]   \n",
      " 12  SATPIXLIST[C III 977 - Peak]    1 BinTableHDU     98   11R x 6C   [1E, 1E, 1E, 1E, 1E, 1E]   \n"
     ]
    }
   ],
   "source": [
    "hdul = fits.open(os.path.join('../data',fitsfiles[0]))\n",
    "hdul.info()\n",
    "hdul.close()"
   ]
  },
  {
   "cell_type": "code",
   "execution_count": 12,
   "id": "baf7ac18-6143-4d01-88d7-33a63bed5cf5",
   "metadata": {},
   "outputs": [
    {
     "ename": "KeyError",
     "evalue": "\"Extension 'O II 718 - Peak (spectral bin 2)' not found.\"",
     "output_type": "error",
     "traceback": [
      "\u001b[31m---------------------------------------------------------------------------\u001b[39m",
      "\u001b[31mKeyError\u001b[39m                                  Traceback (most recent call last)",
      "\u001b[36mCell\u001b[39m\u001b[36m \u001b[39m\u001b[32mIn[12]\u001b[39m\u001b[32m, line 3\u001b[39m\n\u001b[32m      1\u001b[39m \u001b[38;5;28;01mfor\u001b[39;00m i \u001b[38;5;129;01min\u001b[39;00m \u001b[38;5;28mrange\u001b[39m(\u001b[32m0\u001b[39m,\u001b[38;5;28mlen\u001b[39m(file_offsets)):\n\u001b[32m      2\u001b[39m     hdul = fits.open(os.path.join(\u001b[33m'\u001b[39m\u001b[33m../data\u001b[39m\u001b[33m'\u001b[39m,fitsfiles[file_offsets[i]]))\n\u001b[32m----> \u001b[39m\u001b[32m3\u001b[39m     spice_dat, spice_hdr = \u001b[43mhdul\u001b[49m\u001b[43m[\u001b[49m\u001b[43mwin_name\u001b[49m\u001b[43m]\u001b[49m.data[\u001b[32m0\u001b[39m], hdul[win_name].header\n\u001b[32m      4\u001b[39m     spice_dat = spice_dat.transpose([\u001b[32m2\u001b[39m,\u001b[32m1\u001b[39m,\u001b[32m0\u001b[39m]).astype(np.float32)\n\u001b[32m      5\u001b[39m     hdul.close()\n",
      "\u001b[36mFile \u001b[39m\u001b[32mc:\\Users\\dolliou\\Desktop\\code\\spice-line-fits\\.venv\\Lib\\site-packages\\astropy\\io\\fits\\hdu\\hdulist.py:388\u001b[39m, in \u001b[36mHDUList.__getitem__\u001b[39m\u001b[34m(self, key)\u001b[39m\n\u001b[32m    383\u001b[39m \u001b[38;5;66;03m# Originally this used recursion, but hypothetically an HDU with\u001b[39;00m\n\u001b[32m    384\u001b[39m \u001b[38;5;66;03m# a very large number of HDUs could blow the stack, so use a loop\u001b[39;00m\n\u001b[32m    385\u001b[39m \u001b[38;5;66;03m# instead\u001b[39;00m\n\u001b[32m    386\u001b[39m \u001b[38;5;28;01mtry\u001b[39;00m:\n\u001b[32m    387\u001b[39m     \u001b[38;5;28;01mreturn\u001b[39;00m \u001b[38;5;28mself\u001b[39m._try_while_unread_hdus(\n\u001b[32m--> \u001b[39m\u001b[32m388\u001b[39m         \u001b[38;5;28msuper\u001b[39m().\u001b[34m__getitem__\u001b[39m, \u001b[38;5;28;43mself\u001b[39;49m\u001b[43m.\u001b[49m\u001b[43m_positive_index_of\u001b[49m\u001b[43m(\u001b[49m\u001b[43mkey\u001b[49m\u001b[43m)\u001b[49m\n\u001b[32m    389\u001b[39m     )\n\u001b[32m    390\u001b[39m \u001b[38;5;28;01mexcept\u001b[39;00m \u001b[38;5;167;01mIndexError\u001b[39;00m \u001b[38;5;28;01mas\u001b[39;00m e:\n\u001b[32m    391\u001b[39m     \u001b[38;5;66;03m# Raise a more helpful IndexError if the file was not fully read.\u001b[39;00m\n\u001b[32m    392\u001b[39m     \u001b[38;5;28;01mif\u001b[39;00m \u001b[38;5;28mself\u001b[39m._read_all:\n",
      "\u001b[36mFile \u001b[39m\u001b[32mc:\\Users\\dolliou\\Desktop\\code\\spice-line-fits\\.venv\\Lib\\site-packages\\astropy\\io\\fits\\hdu\\hdulist.py:873\u001b[39m, in \u001b[36mHDUList._positive_index_of\u001b[39m\u001b[34m(self, key)\u001b[39m\n\u001b[32m    859\u001b[39m \u001b[38;5;28;01mdef\u001b[39;00m\u001b[38;5;250m \u001b[39m\u001b[34m_positive_index_of\u001b[39m(\u001b[38;5;28mself\u001b[39m, key):\n\u001b[32m    860\u001b[39m \u001b[38;5;250m    \u001b[39m\u001b[33;03m\"\"\"\u001b[39;00m\n\u001b[32m    861\u001b[39m \u001b[33;03m    Same as index_of, but ensures always returning a positive index\u001b[39;00m\n\u001b[32m    862\u001b[39m \u001b[33;03m    or zero.\u001b[39;00m\n\u001b[32m   (...)\u001b[39m\u001b[32m    871\u001b[39m \u001b[33;03m    inefficient.\u001b[39;00m\n\u001b[32m    872\u001b[39m \u001b[33;03m    \"\"\"\u001b[39;00m\n\u001b[32m--> \u001b[39m\u001b[32m873\u001b[39m     index = \u001b[38;5;28;43mself\u001b[39;49m\u001b[43m.\u001b[49m\u001b[43mindex_of\u001b[49m\u001b[43m(\u001b[49m\u001b[43mkey\u001b[49m\u001b[43m)\u001b[49m\n\u001b[32m    875\u001b[39m     \u001b[38;5;28;01mif\u001b[39;00m index >= \u001b[32m0\u001b[39m:\n\u001b[32m    876\u001b[39m         \u001b[38;5;28;01mreturn\u001b[39;00m index\n",
      "\u001b[36mFile \u001b[39m\u001b[32mc:\\Users\\dolliou\\Desktop\\code\\spice-line-fits\\.venv\\Lib\\site-packages\\astropy\\io\\fits\\hdu\\hdulist.py:855\u001b[39m, in \u001b[36mHDUList.index_of\u001b[39m\u001b[34m(self, key)\u001b[39m\n\u001b[32m    852\u001b[39m         \u001b[38;5;28;01mbreak\u001b[39;00m\n\u001b[32m    854\u001b[39m \u001b[38;5;28;01mif\u001b[39;00m found \u001b[38;5;129;01mis\u001b[39;00m \u001b[38;5;28;01mNone\u001b[39;00m:\n\u001b[32m--> \u001b[39m\u001b[32m855\u001b[39m     \u001b[38;5;28;01mraise\u001b[39;00m \u001b[38;5;167;01mKeyError\u001b[39;00m(\u001b[33mf\u001b[39m\u001b[33m\"\u001b[39m\u001b[33mExtension \u001b[39m\u001b[38;5;132;01m{\u001b[39;00mkey\u001b[38;5;132;01m!r}\u001b[39;00m\u001b[33m not found.\u001b[39m\u001b[33m\"\u001b[39m)\n\u001b[32m    856\u001b[39m \u001b[38;5;28;01melse\u001b[39;00m:\n\u001b[32m    857\u001b[39m     \u001b[38;5;28;01mreturn\u001b[39;00m found\n",
      "\u001b[31mKeyError\u001b[39m: \"Extension 'O II 718 - Peak (spectral bin 2)' not found.\""
     ]
    }
   ],
   "source": [
    "for i in range(0,len(file_offsets)):\n",
    "    hdul = fits.open(os.path.join('../data',fitsfiles[file_offsets[i]]))\n",
    "    spice_dat, spice_hdr = hdul[win_name].data[0], hdul[win_name].header\n",
    "    spice_dat = spice_dat.transpose([2,1,0]).astype(np.float32)\n",
    "    hdul.close()\n",
    "    \n",
    "    spice_dx, spice_dy, spice_dl = spice_hdr['CDELT1'],spice_hdr['CDELT2'],10*spice_hdr['CDELT3']\n",
    "    spice_wl0 = 10*spice_hdr['CRVAL3']-spice_dl*spice_hdr['CRPIX3']\n",
    "    spice_la = spice_wl0+spice_dl*np.arange(spice_dat.shape[2],dtype=np.float64)\n",
    "    \n",
    "    centers, lines = check_for_waves(line_waves, line_names, spice_la)\n",
    "    \n",
    "    print(lines)\n",
    "    \n",
    "    shift_vars = shift_holder(spice_dat, spice_hdr, line_waves, line_names, fitter.__name__, save_dir='../sprout_shift_vars/save/')\n",
    "    \n",
    "    sv_initial = search_shifts(spice_dat, spice_hdr, xs_initial, ys_initial, line_waves, line_names, lsq_fitter, single_thread=True, nthreads=32, yrange_plot_dir='../sprout_shift_vars/yrange_plots/', shift_vars=shift_vars)\n",
    "    \n",
    "    shift_vars.set(sv_initial)\n",
    "    \n",
    "    shift_vars.save()\n",
    "    \n",
    "    x_refine, y_refine = refine_points(shift_vars,[-5,5],[-5,5], 11, 11, 20)\n",
    "    print(x_refine); print(y_refine)\n",
    "    \n",
    "    shift_vars = search_shifts(spice_dat, spice_hdr, x_refine, y_refine, line_waves, line_names, lsq_fitter, shift_vars=shift_vars, single_thread=True, nthreads=32, yrange_plot_dir='../sprout_shift_vars/yrange_plots/')\n",
    "    shift_vars.save()\n",
    "    \n",
    "    x_refine, y_refine = refine_points(shift_vars,[-5,5],[-5,5], 31, 31, 20)\n",
    "    print(x_refine); print(y_refine)\n",
    "    \n",
    "    shift_vars = search_shifts(spice_dat, spice_hdr, x_refine, y_refine, line_waves, line_names, lsq_fitter, shift_vars=shift_vars, single_thread=True, nthreads=32, yrange_plot_dir='../sprout_shift_vars/yrange_plots/')\n",
    "    shift_vars.save()\n",
    "    \n",
    "    # Reinterpolate the search results to a finer linear grid for ease of plotting:\n",
    "    from scipy.interpolate import RegularGridInterpolator, LinearNDInterpolator as lndi\n",
    "    \n",
    "    xa = np.array(list(shift_vars.valdict.values()))[:,0]\n",
    "    ya = np.array(list(shift_vars.valdict.values()))[:,1]\n",
    "    dat = np.array(list(shift_vars.valdict.values()))[:,2]\n",
    "    \n",
    "    include = (np.abs(xa) > 1.0e-5)*(np.abs(ya) > 1.0e-5)\n",
    "    \n",
    "    nx_plot, ny_plot = 41, 41\n",
    "    xya = np.vstack([xa[include],ya[include]]).T\n",
    "    xa0,ya0 = np.array(np.meshgrid(np.linspace(xl,xh,nx_plot),np.linspace(yl,yh,ny_plot))).transpose([0,2,1])\n",
    "    dat_interp = lndi(xya, dat[include])(xa0,ya0)\n",
    "    \n",
    "    dat_interp = lndi(xya, dat[include])(xa0,ya0)\n",
    "    \n",
    "    sort_interp = np.argsort(dat_interp.flatten())\n",
    "    xsort_interp = xa0.flatten()[sort_interp]\n",
    "    ysort_interp = ya0.flatten()[sort_interp]\n",
    "    \n",
    "    xl2, xh2 = xl-0.5*(xh-xl)/(nx_plot-1), xh+0.5*(xh-xl)/(nx_plot-1)\n",
    "    yl2, yh2 = yl-0.5*(yh-yl)/(ny_plot-1), yh+0.5*(yh-yl)/(ny_plot-1)\n",
    "    \n",
    "    labelstr = spice_hdr['DATE-OBS']+' '+spice_hdr['EXTNAME']\n",
    "    labelstr = labelstr.replace('-','').replace(':','').replace('  ','_').replace(' ','_')\n",
    "    labelstr = labelstr.replace('/','_')\n",
    "    print(labelstr)\n",
    "    \n",
    "    fig,axes = plt.subplots(nrows=1,ncols=2,figsize=[16,9])\n",
    "    plt.suptitle(spice_hdr['DATE-OBS']+' '+spice_hdr['EXTNAME']+': xyshift='+str(np.array([xa[np.argmin(dat)], ya[np.argmin(dat)]])))\n",
    "    axes[0].imshow(np.clip(np.nansum(spice_dat,axis=2).T,0,None)[150:850,:]**0.5,vmin=0,vmax=(100*np.nanmean(spice_dat))**0.5,aspect=spice_hdr['CDELT2']/spice_hdr['CDELT1'])\n",
    "    axes[0].set(title='Spectral sum',xlabel='Raster axis @ ypix equivalent -- '+str(spice_hdr['cdelt2'])+'\"')\n",
    "    asdfa = axes[1].imshow(dat_interp.T, extent=[xl2, xh2, yl2, yh2],cmap=plt.get_cmap('gray'))\n",
    "    axes[1].plot(xa,ya,'P',markersize=10,linewidth=5)\n",
    "    axes[1].set(title='RMS Doppler variance', xlabel='x shift (arcsecond/angstrom)', ylabel='y shift (arcsecond/angstrom)')\n",
    "    axes[1].legend(['Sampled points'])\n",
    "    fig.colorbar(asdfa, ax=axes[1],location='bottom')\n",
    "    plt.savefig(os.path.join('../sprout_shift_vars/figs','varplot_'+labelstr+'.png'))\n",
    "    plt.close()"
   ]
  },
  {
   "cell_type": "code",
   "execution_count": null,
   "id": "4c4db05f-3ee2-4bb5-988d-649c94de1808",
   "metadata": {},
   "outputs": [],
   "source": []
  },
  {
   "cell_type": "code",
   "execution_count": null,
   "id": "5d9c3492-e0f0-48a3-9fb1-6314136bc576",
   "metadata": {},
   "outputs": [],
   "source": []
  },
  {
   "cell_type": "code",
   "execution_count": null,
   "id": "b1c11570-ed89-4795-8656-0fc610cca368",
   "metadata": {},
   "outputs": [],
   "source": []
  },
  {
   "cell_type": "code",
   "execution_count": null,
   "id": "a6ad2380-e5f4-4312-b44e-877eef0df7cc",
   "metadata": {},
   "outputs": [],
   "source": []
  }
 ],
 "metadata": {
  "kernelspec": {
   "display_name": ".venv (3.13.1)",
   "language": "python",
   "name": "python3"
  },
  "language_info": {
   "codemirror_mode": {
    "name": "ipython",
    "version": 3
   },
   "file_extension": ".py",
   "mimetype": "text/x-python",
   "name": "python",
   "nbconvert_exporter": "python",
   "pygments_lexer": "ipython3",
   "version": "3.13.1"
  }
 },
 "nbformat": 4,
 "nbformat_minor": 5
}
